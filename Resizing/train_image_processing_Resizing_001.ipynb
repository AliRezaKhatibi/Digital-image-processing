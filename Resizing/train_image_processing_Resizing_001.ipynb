{
 "cells": [
  {
   "cell_type": "code",
   "execution_count": 35,
   "id": "67c8e8e1-1ab0-4686-aad6-8cdedd66dd91",
   "metadata": {},
   "outputs": [],
   "source": [
    "import cv2\n",
    "import numpy as np"
   ]
  },
  {
   "cell_type": "code",
   "execution_count": 36,
   "id": "306b39df-4ac0-43a5-91cb-c020b882fa4f",
   "metadata": {},
   "outputs": [],
   "source": [
    "# cv2.INTER_NEAREST: نزدیک‌ترین همسایه (سریع‌ترین، ولی کیفیت پایین)\n",
    "# cv2.INTER_LINEAR: درون‌یابی خطی (کیفیت مناسب، سرعت متوسط)\n",
    "# cv2.INTER_CUBIC: درون‌یابی مکعبی (کیفیت بالا، ولی کندتر)\n",
    "# cv2.INTER_LANCZOS4: روش LANCZOS برای کیفیت بالا (بسیار کندتر)"
   ]
  },
  {
   "cell_type": "code",
   "execution_count": 74,
   "id": "9070443c-0781-4df6-a573-174f44ee37f7",
   "metadata": {},
   "outputs": [],
   "source": [
    "def add_label(image, text, position):\n",
    "    font = cv2.FONT_HERSHEY_SIMPLEX\n",
    "    font_scale = 0.9\n",
    "    color =  (40, 150, 210)\n",
    "    Text_thickness = 3\n",
    "    line_Type = cv2.LINE_AA\n",
    "    cv2.putText(image, text, position, font, font_scale,color, Text_thickness, line_Type)\n",
    "    return image\n",
    "\n",
    "def add_quality_bar(image, quality, position):\n",
    "    \"\"\" اضافه کردن نوار کیفیت به تصویر \"\"\"\n",
    "    bar_length = 100  # طول نوار\n",
    "    bar_height = 10   # ارتفاع نوار\n",
    "    max_quality = 4   # حداکثر کیفیت\n",
    "\n",
    "    # محاسبه طول نوار پر شده\n",
    "    fill_length = int((quality / max_quality) * bar_length)\n",
    "\n",
    "    # رسم نوار پس‌زمینه\n",
    "    cv2.rectangle(image, position, (position[0] + bar_length, position[1] + bar_height), (100, 100, 100), -1)\n",
    "    \n",
    "    # رسم نوار پر شده\n",
    "    cv2.rectangle(image, position, (position[0] + fill_length, position[1] + bar_height), (40, 200, 80), -1)\n",
    "    \n",
    "    return image"
   ]
  },
  {
   "cell_type": "code",
   "execution_count": 75,
   "id": "e4d2a469-1cbd-404d-a51a-8a1708489df4",
   "metadata": {},
   "outputs": [],
   "source": [
    "# بارگذاری تصویر\n",
    "image = cv2.imread(r\"data\\p_1.jpg\")\n",
    "\n",
    "# تنظیم ابعاد جدید (مثلاً 400x300)\n",
    "new_width, new_height = 400, 300\n",
    "\n",
    "resized_image_NEAREST = cv2.resize(image, (new_width, new_height), interpolation = cv2.INTER_NEAREST)\n",
    "resized_image_LINEAR = cv2.resize(image, (new_width, new_height), interpolation = cv2.INTER_LINEAR)\n",
    "resized_image_CUBIC = cv2.resize(image, (new_width, new_height), interpolation = cv2.INTER_CUBIC)\n",
    "resized_image_LANCZOS4 = cv2.resize(image, (new_width, new_height), interpolation = cv2.INTER_LANCZOS4)\n",
    "\n",
    "# اضافه کردن لیبل به تصاویر\n",
    "resized_image_NEAREST = add_label(resized_image_NEAREST, \"INTER_NEAREST\", (10, 30))\n",
    "resized_image_NEAREST = add_quality_bar(resized_image_NEAREST, 1, (10, 40))  # کیفیت کم\n",
    "\n",
    "resized_image_LINEAR = add_label(resized_image_LINEAR, \"INTER_LINEA\", (10, 30))\n",
    "resized_image_LINEAR = add_quality_bar(resized_image_LINEAR, 2, (10, 40))  # کیفیت متوسط\n",
    "\n",
    "\n",
    "resized_image_CUBIC = add_label(resized_image_CUBIC, \"INTER_CUBIC\", (10, 30))\n",
    "resized_image_CUBIC = add_quality_bar(resized_image_CUBIC, 3, (10, 40))  # کیفیت بالا\n",
    "\n",
    "resized_image_LANCZOS4 = add_label(resized_image_LANCZOS4, \"LANCZOS4\", (10, 30))\n",
    "resized_image_LANCZOS4 = add_quality_bar(resized_image_LANCZOS4, 4, (10, 40))  # کیفیت خیلی بالا\n",
    "\n",
    "\n",
    "# ترکیب 4 تصویر در کنار هم\n",
    "row_1 = np.hstack((resized_image_NEAREST, resized_image_LINEAR))\n",
    "row_2 = np.hstack((resized_image_CUBIC,resized_image_LANCZOS4))\n",
    "combined = np.vstack((row_1,row_2))\n",
    "\n",
    "# نمایش تصویر\n",
    "cv2.imshow(\"Resized Images\", combined)\n",
    "cv2.waitKey(0)\n",
    "cv2.destroyAllWindows()"
   ]
  },
  {
   "cell_type": "code",
   "execution_count": 77,
   "id": "30dd67d1-2007-4859-883f-4c8aa750d3a5",
   "metadata": {},
   "outputs": [
    {
     "data": {
      "text/plain": [
       "True"
      ]
     },
     "execution_count": 77,
     "metadata": {},
     "output_type": "execute_result"
    }
   ],
   "source": [
    "# save\n",
    "cv2.imwrite(r'D:\\A_Senior - Data Science\\2_semester\\image processing\\Codes\\Resizing\\out put\\resize_p_1.jpg', combined)"
   ]
  },
  {
   "cell_type": "code",
   "execution_count": 78,
   "id": "d0896e28-f838-45c6-8e08-ca199c47973b",
   "metadata": {},
   "outputs": [],
   "source": [
    "# finish"
   ]
  }
 ],
 "metadata": {
  "kernelspec": {
   "display_name": "Python 3 (ipykernel)",
   "language": "python",
   "name": "python3"
  },
  "language_info": {
   "codemirror_mode": {
    "name": "ipython",
    "version": 3
   },
   "file_extension": ".py",
   "mimetype": "text/x-python",
   "name": "python",
   "nbconvert_exporter": "python",
   "pygments_lexer": "ipython3",
   "version": "3.12.7"
  }
 },
 "nbformat": 4,
 "nbformat_minor": 5
}
