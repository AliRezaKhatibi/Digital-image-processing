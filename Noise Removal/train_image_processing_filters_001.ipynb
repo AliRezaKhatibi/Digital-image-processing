{
 "cells": [
  {
   "cell_type": "code",
   "execution_count": 99,
   "id": "3be32c1c-f909-4dc1-81d6-fa96a01549a9",
   "metadata": {},
   "outputs": [],
   "source": [
    "import cv2\n",
    "import numpy as np"
   ]
  },
  {
   "cell_type": "code",
   "execution_count": 100,
   "id": "cb26c68b-229f-4280-b024-c25f74d1b53b",
   "metadata": {},
   "outputs": [],
   "source": [
    "# cv2.LINE_4  # رسم با خطوط 4-اتصالی (۴-اتصال)\n",
    "# cv2.LINE_8  # رسم با خطوط 8-اتصالی (۸-اتصال) (پیش‌فرض)\n",
    "# cv2.LINE_AA  # آنتی-الیاسینگ (نرم و صاف‌تر)"
   ]
  },
  {
   "cell_type": "code",
   "execution_count": 117,
   "id": "26c6df09-177b-4f55-a1aa-ed5c74d6d713",
   "metadata": {},
   "outputs": [],
   "source": [
    "def resize_image(image, width, height):\n",
    "    return cv2.resize(image, (width, height))\n",
    "\n",
    "def add_label(image, text, position):\n",
    "    font = cv2.FONT_HERSHEY_SIMPLEX\n",
    "    font_scale = 0.9\n",
    "    color =  (80, 255, 180)\n",
    "    Text_thickness = 3\n",
    "    line_Type = cv2.LINE_AA\n",
    "    cv2.putText(image, text, position, font, font_scale,color, Text_thickness, line_Type)\n",
    "    return image\n",
    "\n",
    "# خواندن تصویر\n",
    "image = cv2.imread(r\"data\\p_1.jpg\")"
   ]
  },
  {
   "cell_type": "code",
   "execution_count": 118,
   "id": "979846e5-4796-41ea-b813-e08a6c315a89",
   "metadata": {},
   "outputs": [],
   "source": [
    "# (Average Filter)"
   ]
  },
  {
   "cell_type": "code",
   "execution_count": 119,
   "id": "cef81c02-4db8-4be1-935f-0fc443841563",
   "metadata": {},
   "outputs": [],
   "source": [
    "# اعمال فیلتر میانگین\n",
    "blurred_mean = cv2.blur(image, (5, 5))\n",
    "\n",
    "# تنظیم ابعاد دلخواه\n",
    "width, height = 800,600   # مقدار دلخواه\n",
    "image_resized = resize_image(image, width, height)\n",
    "blurred_mean_resized = resize_image(blurred_mean, width, height)\n",
    "\n",
    "# اضافه کردن لیبل به تصاویر\n",
    "image_resized = add_label(image_resized, \"Original Image\", (10, 30))\n",
    "blurred_mean_resized = add_label(blurred_mean_resized, \"Mean Filter\", (10, 30))\n",
    "\n",
    "# ترکیب دو تصویر در کنار هم\n",
    "combined = np.hstack((image_resized, blurred_mean_resized))\n",
    "\n",
    "# نمایش تصویر\n",
    "cv2.imshow(\"Original vs Blurred\", combined)\n",
    "cv2.waitKey(0)\n",
    "cv2.destroyAllWindows()"
   ]
  },
  {
   "cell_type": "code",
   "execution_count": 120,
   "id": "0c40cba1-3fdb-4c83-b8e1-c23c74d932af",
   "metadata": {},
   "outputs": [
    {
     "data": {
      "text/plain": [
       "True"
      ]
     },
     "execution_count": 120,
     "metadata": {},
     "output_type": "execute_result"
    }
   ],
   "source": [
    "# save\n",
    "cv2.imwrite(r'D:\\A_Senior - Data Science\\2_semester\\image processing\\Codes\\out put\\filter_p_1.jpg', combined)"
   ]
  },
  {
   "cell_type": "code",
   "execution_count": 121,
   "id": "d1fcd2df-063d-48c3-9907-f497c8284892",
   "metadata": {},
   "outputs": [],
   "source": [
    "# Gaussian Filter\n",
    "# median\n",
    "# bilateral"
   ]
  },
  {
   "cell_type": "code",
   "execution_count": 122,
   "id": "3fbe5c17-e523-464d-97c6-1b8a320ebb0c",
   "metadata": {},
   "outputs": [],
   "source": [
    "# اعمال فیلتر گاوسی\n",
    "blurred_gaussian = cv2.GaussianBlur(image, (5, 5), 0)\n",
    "\n",
    "# اعمال فیلتر میانه\n",
    "blurred_median = cv2.medianBlur(image,5)\n",
    "\n",
    "# اعمال فیلتر دوجانبه\n",
    "blurred_bilateral = cv2.bilateralFilter(image, 9, 75, 75)\n",
    "\n",
    "# تنظیم ابعاد دلخواه\n",
    "width, height = 600, 400  # مقدار دلخواه\n",
    "image_resized = resize_image(image, width, height)\n",
    "blurred_gaussian_resized = resize_image(blurred_gaussian, width, height)\n",
    "blurred_median_resized = resize_image(blurred_median, width, height)\n",
    "blurred_bilateral_resized = resize_image(blurred_bilateral, width, height)\n",
    "\n",
    "# اضافه کردن لیبل به تصاویر\n",
    "image_resized = add_label(image_resized, \"Original Image\", (10, 30))\n",
    "blurred_gaussian_resized = add_label(blurred_gaussian_resized, \"Gaussian Filter\", (10, 30))\n",
    "blurred_median_resized = add_label(blurred_median_resized, \"Median Filter\", (10, 30))\n",
    "blurred_bilateral_resized = add_label(blurred_bilateral_resized, \"Bilateral Filter\", (10, 30))\n",
    "\n",
    "# ترکیب تصاویر در یک ماتریس\n",
    "row1 = np.hstack((image_resized,blurred_bilateral_resized ))\n",
    "row2 = np.hstack((blurred_gaussian_resized, blurred_median_resized))\n",
    "combined = np.vstack((row1, row2))\n",
    "\n",
    "# نمایش تصویر\n",
    "cv2.imshow(\"Filters Comparison\", combined)\n",
    "cv2.waitKey(0)\n",
    "cv2.destroyAllWindows()"
   ]
  },
  {
   "cell_type": "code",
   "execution_count": 123,
   "id": "27d711dc-9382-4d7f-a8e2-a1486370f792",
   "metadata": {},
   "outputs": [
    {
     "data": {
      "text/plain": [
       "True"
      ]
     },
     "execution_count": 123,
     "metadata": {},
     "output_type": "execute_result"
    }
   ],
   "source": [
    "# save\n",
    "cv2.imwrite(r'D:\\A_Senior - Data Science\\2_semester\\image processing\\Codes\\out put\\filters_p_1.jpg', combined)"
   ]
  },
  {
   "cell_type": "code",
   "execution_count": 124,
   "id": "50cc9a32-80ef-4598-abc0-acc2cf50af7e",
   "metadata": {},
   "outputs": [],
   "source": [
    "# np.zeros_like(blurred_bilateral_resized)"
   ]
  },
  {
   "cell_type": "code",
   "execution_count": 125,
   "id": "c7903617-1158-4cab-904d-24797a5d5c1c",
   "metadata": {},
   "outputs": [],
   "source": [
    "# finish"
   ]
  }
 ],
 "metadata": {
  "kernelspec": {
   "display_name": "Python 3 (ipykernel)",
   "language": "python",
   "name": "python3"
  },
  "language_info": {
   "codemirror_mode": {
    "name": "ipython",
    "version": 3
   },
   "file_extension": ".py",
   "mimetype": "text/x-python",
   "name": "python",
   "nbconvert_exporter": "python",
   "pygments_lexer": "ipython3",
   "version": "3.12.7"
  }
 },
 "nbformat": 4,
 "nbformat_minor": 5
}
