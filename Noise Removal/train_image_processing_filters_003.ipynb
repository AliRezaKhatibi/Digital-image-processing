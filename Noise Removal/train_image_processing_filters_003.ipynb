{
 "cells": [
  {
   "cell_type": "code",
   "execution_count": 76,
   "id": "ed068d68-4421-4b82-a8ae-125f1349fb92",
   "metadata": {},
   "outputs": [],
   "source": [
    "import cv2\n",
    "import numpy as np\n",
    "import random"
   ]
  },
  {
   "cell_type": "code",
   "execution_count": 77,
   "id": "439505d9-81d5-4496-aabc-6367724096c4",
   "metadata": {},
   "outputs": [],
   "source": [
    "# Make Gaussian Noise\n",
    "def add_gaussian_noise(image, mean=80, std=15):\n",
    "    \"\"\"\n",
    "    اضافه کردن نویز گوسی به تصویر\n",
    "    :param image: تصویر ورودی به صورت آرایه NumPy\n",
    "    :param mean: میانگین نویز\n",
    "    :param std: انحراف معیار نویز\n",
    "    :return: تصویر دارای نویز\n",
    "    \"\"\"\n",
    "    noise = np.random.normal(mean, std, image.shape).astype(np.uint8)\n",
    "    noisy_image = cv2.add(image, noise)  # جلوگیری از overflow و underflow\n",
    "    return noisy_image\n",
    "    \n",
    "# Make Salt & Pepper Noise\n",
    "def add_salt_and_pepper_noise(image, salt_prob=0.02, pepper_prob=0.02):\n",
    "    \"\"\"\n",
    "    اضافه کردن نویز نمک و فلفل به تصویر\n",
    "    :param image: تصویر ورودی به صورت آرایه NumPy\n",
    "    :param salt_prob: احتمال نویز نمک (پیکسل‌های سفید)\n",
    "    :param pepper_prob: احتمال نویز فلفل (پیکسل‌های سیاه)\n",
    "    :return: تصویر دارای نویز\n",
    "    \"\"\"\n",
    "    noisy_image = image.copy()\n",
    "    total_pixels = image.shape[0] * image.shape[1]\n",
    "    \n",
    "    # اضافه کردن نویز نمک (پیکسل‌های سفید)\n",
    "    num_salt = int(total_pixels * salt_prob)\n",
    "    for _ in range(num_salt):\n",
    "        y, x = random.randint(0, image.shape[0] - 1), random.randint(0, image.shape[1] - 1)\n",
    "        noisy_image[y, x] = 255\n",
    "    \n",
    "    # اضافه کردن نویز فلفل (پیکسل‌های سیاه)\n",
    "    num_pepper = int(total_pixels * pepper_prob)\n",
    "    for _ in range(num_pepper):\n",
    "        y, x = random.randint(0, image.shape[0] - 1), random.randint(0, image.shape[1] - 1)\n",
    "        noisy_image[y, x] = 0\n",
    "    \n",
    "    return noisy_image\n",
    "\n",
    "# Make Speckle Noise\n",
    "def add_speckle_noise(image, mean=0, std=0.2):\n",
    "    \"\"\"\n",
    "    اضافه کردن نویز اسپکل به تصویر\n",
    "    :param image: تصویر ورودی به صورت آرایه NumPy\n",
    "    :param mean: میانگین نویز\n",
    "    :param std: انحراف معیار نویز\n",
    "    :return: تصویر دارای نویز\n",
    "    \"\"\"\n",
    "    noise = np.random.normal(mean, std, image.shape)\n",
    "    noisy_image = image + image * noise  # نویز چندگرایشی (Multiplicative Noise)\n",
    "    noisy_image = np.clip(noisy_image, 0, 255).astype(np.uint8)  # محدود کردن مقادیر به 0-255\n",
    "    return noisy_image\n",
    "\n",
    "# Make Poisson Noise\n",
    "def add_poisson_noise(image):\n",
    "    \"\"\"\n",
    "    اضافه کردن نویز پواسونی به تصویر\n",
    "    :param image: تصویر ورودی به صورت آرایه NumPy\n",
    "    :return: تصویر دارای نویز\n",
    "    \"\"\"\n",
    "    noisy_image = np.random.poisson(image.astype(np.float32))\n",
    "    noisy_image = np.clip(noisy_image, 0, 255).astype(np.uint8)  # محدود کردن مقادیر به 0-255\n",
    "    return noisy_image"
   ]
  },
  {
   "cell_type": "code",
   "execution_count": 86,
   "id": "1d1621f2-ba09-4cf8-8df0-03fdfc7a5248",
   "metadata": {},
   "outputs": [],
   "source": [
    "# خواندن تصویر\n",
    "image = cv2.imread('data/p_4.jpg')"
   ]
  },
  {
   "cell_type": "code",
   "execution_count": 87,
   "id": "f8303ccd-b0ad-4318-b09a-1a15b119e98a",
   "metadata": {},
   "outputs": [],
   "source": [
    "# افزودن نویز گوسی\n",
    "noisy_image = add_gaussian_noise(image)\n",
    "\n",
    "# نمایش تصویر اصلی و تصویر دارای نویز\n",
    "#cv2.imshow('Original Image', image)\n",
    "cv2.imshow('Noisy Image', noisy_image)\n",
    "cv2.waitKey(0)\n",
    "cv2.destroyAllWindows()\n",
    "\n",
    "# ذخیره تصویر نویزی\n",
    "#cv2.imwrite('noisy_image.jpg', noisy_image)"
   ]
  },
  {
   "cell_type": "code",
   "execution_count": 89,
   "id": "a427255f-5fe4-4f96-a455-ebadf9aac2b7",
   "metadata": {},
   "outputs": [
    {
     "data": {
      "text/plain": [
       "True"
      ]
     },
     "execution_count": 89,
     "metadata": {},
     "output_type": "execute_result"
    }
   ],
   "source": [
    "# save\n",
    "cv2.imwrite(r'D:\\A_Senior - Data Science\\2_semester\\image processing\\Codes\\Noise Removal\\data\\Gaussian_Noise_p_4.jpg', noisy_image)"
   ]
  },
  {
   "cell_type": "code",
   "execution_count": 90,
   "id": "ffd08456-edd6-49cf-aefe-03d651c65343",
   "metadata": {},
   "outputs": [],
   "source": [
    "#############\n",
    "#############\n",
    "#############\n",
    "#############"
   ]
  },
  {
   "cell_type": "code",
   "execution_count": 91,
   "id": "e4f4dff1-ed26-4309-9a2f-a46f3c3c5f71",
   "metadata": {},
   "outputs": [],
   "source": [
    "# خواندن تصویر\n",
    "#image = cv2.imread('input.jpg', cv2.IMREAD_GRAYSCALE)\n",
    "\n",
    "# افزودن نویز نمک و فلفل\n",
    "noisy_image = add_salt_and_pepper_noise(image)\n",
    "\n",
    "# نمایش تصویر اصلی و تصویر دارای نویز\n",
    "#cv2.imshow('Original Image', image)\n",
    "cv2.imshow('Noisy Image', noisy_image)\n",
    "cv2.waitKey(0)\n",
    "cv2.destroyAllWindows()\n",
    "\n",
    "# ذخیره تصویر نویزی\n",
    "#cv2.imwrite('noisy_image.jpg', noisy_image)"
   ]
  },
  {
   "cell_type": "code",
   "execution_count": 92,
   "id": "ed649ddb-f8d4-4b60-8e50-ce216191850c",
   "metadata": {},
   "outputs": [
    {
     "data": {
      "text/plain": [
       "True"
      ]
     },
     "execution_count": 92,
     "metadata": {},
     "output_type": "execute_result"
    }
   ],
   "source": [
    "# save\n",
    "cv2.imwrite(r'D:\\A_Senior - Data Science\\2_semester\\image processing\\Codes\\Noise Removal\\data\\salt_and_pepper_noise_p_4.jpg', noisy_image)"
   ]
  },
  {
   "cell_type": "code",
   "execution_count": 93,
   "id": "5b3d15e7-4707-49e9-8d0e-e59fda96b895",
   "metadata": {},
   "outputs": [],
   "source": [
    "#############\n",
    "#############\n",
    "#############\n",
    "#############"
   ]
  },
  {
   "cell_type": "code",
   "execution_count": 94,
   "id": "47b18b10-ffec-434e-9b80-8c44ea65c85f",
   "metadata": {},
   "outputs": [],
   "source": [
    "# خواندن تصویر\n",
    "#image = cv2.imread('input.jpg', cv2.IMREAD_GRAYSCALE)\n",
    "\n",
    "# افزودن نویز اسپکل\n",
    "noisy_image = add_speckle_noise(image)\n",
    "\n",
    "# نمایش تصویر اصلی و تصویر دارای نویز\n",
    "#cv2.imshow('Original Image', image)\n",
    "cv2.imshow('Noisy Image', noisy_image)\n",
    "cv2.waitKey(0)\n",
    "cv2.destroyAllWindows()\n",
    "\n",
    "# ذخیره تصویر نویزی\n",
    "#cv2.imwrite('noisy_image.jpg', noisy_image)\n"
   ]
  },
  {
   "cell_type": "code",
   "execution_count": 95,
   "id": "81e908c1-ccf4-417e-9047-71a0a328e728",
   "metadata": {},
   "outputs": [
    {
     "data": {
      "text/plain": [
       "True"
      ]
     },
     "execution_count": 95,
     "metadata": {},
     "output_type": "execute_result"
    }
   ],
   "source": [
    "# save\n",
    "cv2.imwrite(r'D:\\A_Senior - Data Science\\2_semester\\image processing\\Codes\\Noise Removal\\data\\speckle_noise_p_4.jpg', noisy_image)"
   ]
  },
  {
   "cell_type": "code",
   "execution_count": 96,
   "id": "380dcaf6-7034-4ca2-9393-c9b734e0a928",
   "metadata": {},
   "outputs": [],
   "source": [
    "#############\n",
    "#############\n",
    "#############\n",
    "#############"
   ]
  },
  {
   "cell_type": "code",
   "execution_count": 97,
   "id": "1870eaa6-e6fb-4ef6-8b44-07ff44ea63e9",
   "metadata": {},
   "outputs": [],
   "source": [
    "# خواندن تصویر\n",
    "#image = cv2.imread('input.jpg', cv2.IMREAD_GRAYSCALE)\n",
    "\n",
    "# افزودن نویز پواسونی\n",
    "noisy_image = add_poisson_noise(image)\n",
    "\n",
    "# نمایش تصویر اصلی و تصویر دارای نویز\n",
    "#cv2.imshow('Original Image', image)\n",
    "cv2.imshow('Noisy Image', noisy_image)\n",
    "cv2.waitKey(0)\n",
    "cv2.destroyAllWindows()\n",
    "\n",
    "# ذخیره تصویر نویزی\n",
    "#cv2.imwrite('noisy_image.jpg', noisy_image)\n"
   ]
  },
  {
   "cell_type": "code",
   "execution_count": 98,
   "id": "0bca7e5e-f399-4568-99b8-376289f91bda",
   "metadata": {},
   "outputs": [
    {
     "data": {
      "text/plain": [
       "True"
      ]
     },
     "execution_count": 98,
     "metadata": {},
     "output_type": "execute_result"
    }
   ],
   "source": [
    "# save\n",
    "cv2.imwrite(r'D:\\A_Senior - Data Science\\2_semester\\image processing\\Codes\\Noise Removal\\data\\poisson_noise_p_4.jpg', noisy_image)"
   ]
  },
  {
   "cell_type": "code",
   "execution_count": 99,
   "id": "b039cf71-7c71-4f97-ab87-7781dada4f5d",
   "metadata": {},
   "outputs": [],
   "source": [
    "# finish"
   ]
  }
 ],
 "metadata": {
  "kernelspec": {
   "display_name": "Python 3 (ipykernel)",
   "language": "python",
   "name": "python3"
  },
  "language_info": {
   "codemirror_mode": {
    "name": "ipython",
    "version": 3
   },
   "file_extension": ".py",
   "mimetype": "text/x-python",
   "name": "python",
   "nbconvert_exporter": "python",
   "pygments_lexer": "ipython3",
   "version": "3.12.7"
  }
 },
 "nbformat": 4,
 "nbformat_minor": 5
}
