{
 "cells": [
  {
   "cell_type": "code",
   "execution_count": 30,
   "id": "7b7b4184-d147-4586-96e3-70cb04b099c7",
   "metadata": {},
   "outputs": [],
   "source": [
    "import cv2\n",
    "import numpy as np"
   ]
  },
  {
   "cell_type": "code",
   "execution_count": 31,
   "id": "304ad6e1-7bff-4f31-a44a-422bdb85daf2",
   "metadata": {},
   "outputs": [],
   "source": [
    "def remove_noise(image, method='gaussian', kernel_size=5):\n",
    "    \"\"\"\n",
    "    حذف نویز از تصویر با استفاده از روش‌های مختلف\n",
    "    :param image: تصویر ورودی به صورت آرایه NumPy\n",
    "    :param method: روش حذف نویز ('gaussian', 'median', 'bilateral', 'nlm')\n",
    "    :param kernel_size: اندازه کرنل برای فیلترگذاری\n",
    "    :return: تصویر بدون نویز\n",
    "    \"\"\"\n",
    "    if method == 'gaussian':\n",
    "        denoised_image = cv2.GaussianBlur(image, (kernel_size, kernel_size), 0)\n",
    "    elif method == 'median':\n",
    "        denoised_image = cv2.medianBlur(image, kernel_size)\n",
    "    elif method == 'bilateral':\n",
    "        denoised_image = cv2.bilateralFilter(image, 9, 75, 75)\n",
    "    elif method == 'nlm':  # حذف نویز با روش Non-Local Means\n",
    "        denoised_image = cv2.fastNlMeansDenoising(image, None, 30, 7, 21)\n",
    "    else:\n",
    "        raise ValueError(\"روش نامعتبر است. گزینه‌های معتبر: 'gaussian', 'median', 'bilateral', 'nlm'\")\n",
    "    \n",
    "    return denoised_image\n",
    "###################################################################################################\n",
    "def resize_image(image, width, height):\n",
    "    return cv2.resize(image, (width, height))\n",
    "\n",
    "def add_label(image, text, position):\n",
    "    font = cv2.FONT_HERSHEY_SIMPLEX\n",
    "    font_scale = 0.9\n",
    "    color =  (80, 255, 180)\n",
    "    Text_thickness = 3\n",
    "    line_Type = cv2.LINE_AA\n",
    "    cv2.putText(image, text, position, font, font_scale,color, Text_thickness, line_Type)\n",
    "    return image"
   ]
  },
  {
   "cell_type": "code",
   "execution_count": 11,
   "id": "de4a0e3a-c719-489a-98a6-d093cc154ef2",
   "metadata": {},
   "outputs": [],
   "source": [
    "########################################################################\n",
    "########################################################################"
   ]
  },
  {
   "cell_type": "code",
   "execution_count": 32,
   "id": "718c4a71-5a53-402e-bb75-8491e1a72b17",
   "metadata": {},
   "outputs": [],
   "source": [
    "# خواندن تصویر\n",
    "noisy_image = cv2.imread(r\"data\\salt_and_pepper_noise_p_4.jpg\")"
   ]
  },
  {
   "cell_type": "code",
   "execution_count": 34,
   "id": "d2dc009c-594a-4131-960f-284101a31e12",
   "metadata": {},
   "outputs": [],
   "source": [
    "# اعمال فیلتر گاوسی\n",
    "blurred_gaussian = remove_noise(noisy_image, method='gaussian')\n",
    "\n",
    "# اعمال فیلتر میانه\n",
    "blurred_median = remove_noise(noisy_image, method='median')\n",
    "\n",
    "# اعمال فیلتر دوجانبه\n",
    "blurred_bilateral = remove_noise(noisy_image, method='bilateral')\n",
    "\n",
    "# تنظیم ابعاد دلخواه\n",
    "width, height = 600,300   # مقدار دلخواه\n",
    "image_resized = resize_image(noisy_image, width, height)\n",
    "blurred_gaussian_resized = resize_image(blurred_gaussian, width, height)\n",
    "blurred_median_resized = resize_image(blurred_median, width, height)\n",
    "blurred_bilateral_resized = resize_image(blurred_bilateral, width, height)\n",
    "\n",
    "# اضافه کردن لیبل به تصاویر\n",
    "image_resized = add_label(image_resized, \"salt_pepper_Noise\", (10, 30))\n",
    "blurred_gaussian_resized = add_label(blurred_gaussian_resized, \"Gaussian Filter\", (10, 30))\n",
    "blurred_median_resized = add_label(blurred_median_resized, \"Median Filter\", (10, 30))\n",
    "blurred_bilateral_resized = add_label(blurred_bilateral_resized, \"Bilateral Filter\", (10, 30))\n",
    "\n",
    "# ترکیب تصاویر در یک ماتریس\n",
    "row1 = np.hstack((image_resized,blurred_bilateral_resized ))\n",
    "row2 = np.hstack((blurred_gaussian_resized, blurred_median_resized))\n",
    "combined = np.vstack((row1, row2))\n",
    "\n",
    "# نمایش تصویر\n",
    "cv2.imshow(\"Filters Comparison\", combined)\n",
    "cv2.waitKey(0)\n",
    "cv2.destroyAllWindows()"
   ]
  },
  {
   "cell_type": "code",
   "execution_count": 35,
   "id": "96f6cef4-1454-4951-a1cf-da79121f84a8",
   "metadata": {},
   "outputs": [
    {
     "data": {
      "text/plain": [
       "True"
      ]
     },
     "execution_count": 35,
     "metadata": {},
     "output_type": "execute_result"
    }
   ],
   "source": [
    "# save\n",
    "cv2.imwrite(r'D:\\A_Senior - Data Science\\2_semester\\image processing\\Codes\\Noise Removal\\out put\\filters_combined_salt_and_pepper_p_4.jpg', combined)"
   ]
  },
  {
   "cell_type": "code",
   "execution_count": 12,
   "id": "2d914f91-ba01-487e-af44-dadd5876f8e1",
   "metadata": {},
   "outputs": [],
   "source": [
    "########################################################################\n",
    "########################################################################"
   ]
  },
  {
   "cell_type": "code",
   "execution_count": 39,
   "id": "2dd092a6-438a-45c5-8469-87d350e949cf",
   "metadata": {},
   "outputs": [],
   "source": [
    "# خواندن تصویر\n",
    "noisy_image = cv2.imread(r\"data\\Gaussian_Noise_p_4.jpg\")"
   ]
  },
  {
   "cell_type": "code",
   "execution_count": 40,
   "id": "c0b77b43-2d2c-4107-b049-c2320d4abdf0",
   "metadata": {},
   "outputs": [],
   "source": [
    "# اعمال فیلتر گاوسی\n",
    "blurred_gaussian = remove_noise(noisy_image, method='gaussian')\n",
    "\n",
    "# اعمال فیلتر میانه\n",
    "blurred_median = remove_noise(noisy_image, method='median')\n",
    "\n",
    "# اعمال فیلتر دوجانبه\n",
    "blurred_bilateral = remove_noise(noisy_image, method='bilateral')\n",
    "\n",
    "# تنظیم ابعاد دلخواه\n",
    "width, height = 600,300   # مقدار دلخواه\n",
    "image_resized = resize_image(noisy_image, width, height)\n",
    "blurred_gaussian_resized = resize_image(blurred_gaussian, width, height)\n",
    "blurred_median_resized = resize_image(blurred_median, width, height)\n",
    "blurred_bilateral_resized = resize_image(blurred_bilateral, width, height)\n",
    "\n",
    "# اضافه کردن لیبل به تصاویر\n",
    "image_resized = add_label(image_resized, \"Gaussian_Noise\", (10, 30))\n",
    "blurred_gaussian_resized = add_label(blurred_gaussian_resized, \"Gaussian Filter\", (10, 30))\n",
    "blurred_median_resized = add_label(blurred_median_resized, \"Median Filter\", (10, 30))\n",
    "blurred_bilateral_resized = add_label(blurred_bilateral_resized, \"Bilateral Filter\", (10, 30))\n",
    "\n",
    "# ترکیب تصاویر در یک ماتریس\n",
    "row1 = np.hstack((image_resized,blurred_bilateral_resized ))\n",
    "row2 = np.hstack((blurred_gaussian_resized, blurred_median_resized))\n",
    "combined = np.vstack((row1, row2))\n",
    "\n",
    "# نمایش تصویر\n",
    "cv2.imshow(\"Filters Comparison\", combined)\n",
    "cv2.waitKey(0)\n",
    "cv2.destroyAllWindows()"
   ]
  },
  {
   "cell_type": "code",
   "execution_count": 41,
   "id": "008e8308-a80b-42d0-83ca-d20c84dce100",
   "metadata": {},
   "outputs": [
    {
     "data": {
      "text/plain": [
       "True"
      ]
     },
     "execution_count": 41,
     "metadata": {},
     "output_type": "execute_result"
    }
   ],
   "source": [
    "# save\n",
    "cv2.imwrite(r'D:\\A_Senior - Data Science\\2_semester\\image processing\\Codes\\Noise Removal\\out put\\filters_combined_Gaussian_p_4.jpg', combined)"
   ]
  },
  {
   "cell_type": "code",
   "execution_count": 16,
   "id": "266d05d6-4ede-401a-a025-627d0c4ae02d",
   "metadata": {},
   "outputs": [],
   "source": [
    "########################################################################\n",
    "########################################################################"
   ]
  },
  {
   "cell_type": "code",
   "execution_count": 42,
   "id": "70ed2f1b-b7c2-4d23-a5c6-71b2d48399a7",
   "metadata": {},
   "outputs": [],
   "source": [
    "# خواندن تصویر\n",
    "noisy_image = cv2.imread(r\"data\\poisson_noise_p_4.jpg\")"
   ]
  },
  {
   "cell_type": "code",
   "execution_count": 44,
   "id": "fa1e3031-005d-499a-993f-f7405d43acc9",
   "metadata": {},
   "outputs": [],
   "source": [
    "# اعمال فیلتر گاوسی\n",
    "blurred_gaussian = remove_noise(noisy_image, method='gaussian')\n",
    "\n",
    "# اعمال فیلتر میانه\n",
    "blurred_median = remove_noise(noisy_image, method='median')\n",
    "\n",
    "# اعمال فیلتر دوجانبه\n",
    "blurred_bilateral = remove_noise(noisy_image, method='bilateral')\n",
    "\n",
    "# تنظیم ابعاد دلخواه\n",
    "width, height = 600,300   # مقدار دلخواه\n",
    "image_resized = resize_image(noisy_image, width, height)\n",
    "blurred_gaussian_resized = resize_image(blurred_gaussian, width, height)\n",
    "blurred_median_resized = resize_image(blurred_median, width, height)\n",
    "blurred_bilateral_resized = resize_image(blurred_bilateral, width, height)\n",
    "\n",
    "# اضافه کردن لیبل به تصاویر\n",
    "image_resized = add_label(image_resized, \"Poisson_Noise\", (10, 30))\n",
    "blurred_gaussian_resized = add_label(blurred_gaussian_resized, \"Gaussian Filter\", (10, 30))\n",
    "blurred_median_resized = add_label(blurred_median_resized, \"Median Filter\", (10, 30))\n",
    "blurred_bilateral_resized = add_label(blurred_bilateral_resized, \"Bilateral Filter\", (10, 30))\n",
    "\n",
    "# ترکیب تصاویر در یک ماتریس\n",
    "row1 = np.hstack((image_resized,blurred_bilateral_resized ))\n",
    "row2 = np.hstack((blurred_gaussian_resized, blurred_median_resized))\n",
    "combined = np.vstack((row1, row2))\n",
    "\n",
    "# نمایش تصویر\n",
    "cv2.imshow(\"Filters Comparison\", combined)\n",
    "cv2.waitKey(0)\n",
    "cv2.destroyAllWindows()"
   ]
  },
  {
   "cell_type": "code",
   "execution_count": 45,
   "id": "417c32cc-8a63-4a4c-9871-6569becab398",
   "metadata": {},
   "outputs": [
    {
     "data": {
      "text/plain": [
       "True"
      ]
     },
     "execution_count": 45,
     "metadata": {},
     "output_type": "execute_result"
    }
   ],
   "source": [
    "# save\n",
    "cv2.imwrite(r'D:\\A_Senior - Data Science\\2_semester\\image processing\\Codes\\Noise Removal\\out put\\filters_combined_poisson_p_4.jpg', combined)"
   ]
  },
  {
   "cell_type": "code",
   "execution_count": 23,
   "id": "feb27e15-52e2-4fbb-86fc-f8115c8881b8",
   "metadata": {},
   "outputs": [],
   "source": [
    "########################################################################\n",
    "########################################################################"
   ]
  },
  {
   "cell_type": "code",
   "execution_count": 46,
   "id": "0a55fa84-dfe7-417f-9dd2-a6022e1e0339",
   "metadata": {},
   "outputs": [],
   "source": [
    "# خواندن تصویر\n",
    "noisy_image = cv2.imread(r\"data\\speckle_noise_p_4.jpg\")"
   ]
  },
  {
   "cell_type": "code",
   "execution_count": 48,
   "id": "d2c91861-51d9-4e93-ad4b-2bd740a9d9c2",
   "metadata": {},
   "outputs": [],
   "source": [
    "# اعمال فیلتر گاوسی\n",
    "blurred_gaussian = remove_noise(noisy_image, method='gaussian')\n",
    "\n",
    "# اعمال فیلتر میانه\n",
    "blurred_median = remove_noise(noisy_image, method='median')\n",
    "\n",
    "# اعمال فیلتر دوجانبه\n",
    "blurred_bilateral = remove_noise(noisy_image, method='bilateral')\n",
    "\n",
    "# تنظیم ابعاد دلخواه\n",
    "width, height = 600,300   # مقدار دلخواه\n",
    "image_resized = resize_image(noisy_image, width, height)\n",
    "blurred_gaussian_resized = resize_image(blurred_gaussian, width, height)\n",
    "blurred_median_resized = resize_image(blurred_median, width, height)\n",
    "blurred_bilateral_resized = resize_image(blurred_bilateral, width, height)\n",
    "\n",
    "# اضافه کردن لیبل به تصاویر\n",
    "image_resized = add_label(image_resized, \"Speckle_Noise\", (10, 30))\n",
    "blurred_gaussian_resized = add_label(blurred_gaussian_resized, \"Gaussian Filter\", (10, 30))\n",
    "blurred_median_resized = add_label(blurred_median_resized, \"Median Filter\", (10, 30))\n",
    "blurred_bilateral_resized = add_label(blurred_bilateral_resized, \"Bilateral Filter\", (10, 30))\n",
    "\n",
    "# ترکیب تصاویر در یک ماتریس\n",
    "row1 = np.hstack((image_resized,blurred_bilateral_resized ))\n",
    "row2 = np.hstack((blurred_gaussian_resized, blurred_median_resized))\n",
    "combined = np.vstack((row1, row2))\n",
    "\n",
    "# نمایش تصویر\n",
    "cv2.imshow(\"Filters Comparison\", combined)\n",
    "cv2.waitKey(0)\n",
    "cv2.destroyAllWindows()"
   ]
  },
  {
   "cell_type": "code",
   "execution_count": 49,
   "id": "f894f8e7-4022-4b52-82a5-63b72cee0ec7",
   "metadata": {},
   "outputs": [
    {
     "data": {
      "text/plain": [
       "True"
      ]
     },
     "execution_count": 49,
     "metadata": {},
     "output_type": "execute_result"
    }
   ],
   "source": [
    "# save\n",
    "cv2.imwrite(r'D:\\A_Senior - Data Science\\2_semester\\image processing\\Codes\\Noise Removal\\out put\\filters_combined_speckle_p_4.jpg', combined)"
   ]
  },
  {
   "cell_type": "code",
   "execution_count": 29,
   "id": "82fdbaf3-83e2-4e35-b464-3c8fc29fd670",
   "metadata": {},
   "outputs": [],
   "source": [
    "# finish"
   ]
  }
 ],
 "metadata": {
  "kernelspec": {
   "display_name": "Python 3 (ipykernel)",
   "language": "python",
   "name": "python3"
  },
  "language_info": {
   "codemirror_mode": {
    "name": "ipython",
    "version": 3
   },
   "file_extension": ".py",
   "mimetype": "text/x-python",
   "name": "python",
   "nbconvert_exporter": "python",
   "pygments_lexer": "ipython3",
   "version": "3.12.7"
  }
 },
 "nbformat": 4,
 "nbformat_minor": 5
}
