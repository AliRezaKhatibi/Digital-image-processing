{
 "cells": [
  {
   "cell_type": "code",
   "execution_count": 47,
   "id": "1adbb741-787b-4c59-838d-2b65b0dcd874",
   "metadata": {},
   "outputs": [],
   "source": [
    "import cv2\n",
    "import numpy as np"
   ]
  },
  {
   "cell_type": "code",
   "execution_count": 48,
   "id": "5fe89c85-9fc7-43bf-875e-735b02c5181d",
   "metadata": {},
   "outputs": [],
   "source": [
    "def remove_noise(image, method='gaussian', kernel_size=5):\n",
    "    \"\"\"\n",
    "    حذف نویز از تصویر با استفاده از روش‌های مختلف\n",
    "    :param image: تصویر ورودی به صورت آرایه NumPy\n",
    "    :param method: روش حذف نویز ('gaussian', 'median', 'bilateral', 'nlm')\n",
    "    :param kernel_size: اندازه کرنل برای فیلترگذاری\n",
    "    :return: تصویر بدون نویز\n",
    "    \"\"\"\n",
    "    if method == 'gaussian':\n",
    "        denoised_image = cv2.GaussianBlur(image, (kernel_size, kernel_size), 0)\n",
    "    elif method == 'median':\n",
    "        denoised_image = cv2.medianBlur(image, kernel_size)\n",
    "    elif method == 'bilateral':\n",
    "        denoised_image = cv2.bilateralFilter(image, 9, 75, 75)\n",
    "    elif method == 'nlm':  # حذف نویز با روش Non-Local Means\n",
    "        denoised_image = cv2.fastNlMeansDenoising(image, None, 30, 7, 21)\n",
    "    else:\n",
    "        raise ValueError(\"روش نامعتبر است. گزینه‌های معتبر: 'gaussian', 'median', 'bilateral', 'nlm'\")\n",
    "    \n",
    "    return denoised_image\n",
    "###################################################################################################\n",
    "def resize_image(image, width, height):\n",
    "    return cv2.resize(image, (width, height))\n",
    "\n",
    "def add_label(image, text, position):\n",
    "    font = cv2.FONT_HERSHEY_SIMPLEX\n",
    "    font_scale = 0.9\n",
    "    color =  (80, 255, 180)\n",
    "    Text_thickness = 3\n",
    "    line_Type = cv2.LINE_AA\n",
    "    cv2.putText(image, text, position, font, font_scale,color, Text_thickness, line_Type)\n",
    "    return image"
   ]
  },
  {
   "cell_type": "code",
   "execution_count": 77,
   "id": "ac397093-afc0-4e7f-a0dd-a7991afc48d5",
   "metadata": {},
   "outputs": [],
   "source": [
    "# خواندن تصویر\n",
    "noisy_image = cv2.imread(r\"data\\salt_and_pepper_noise_p_3.jpg\")\n",
    "\n",
    "# خواندن تصویر دارای نویز\n",
    "#noisy_image = cv2.imread(r'data\\Gaussian_Noise_p_3.jpg', cv2.IMREAD_GRAYSCALE)"
   ]
  },
  {
   "cell_type": "code",
   "execution_count": 78,
   "id": "90efa0e8-5c48-42dd-8f53-f0c21caf192f",
   "metadata": {},
   "outputs": [],
   "source": [
    "# اعمال فیلتر میانگین\n",
    "blurred_mean = remove_noise(noisy_image, method='median')\n",
    "\n",
    "# تنظیم ابعاد دلخواه\n",
    "width, height = 500,683   # مقدار دلخواه\n",
    "image_resized = resize_image(noisy_image, width, height)\n",
    "blurred_mean_resized = resize_image(blurred_mean, width, height)\n",
    "\n",
    "# اضافه کردن لیبل به تصاویر\n",
    "image_resized = add_label(image_resized, \"salt and pepper noise Image\", (10, 30))\n",
    "blurred_mean_resized = add_label(blurred_mean_resized, \"Median Filter\", (10, 30))\n",
    "\n",
    "# ترکیب دو تصویر در کنار هم\n",
    "combined = np.hstack((image_resized, blurred_mean_resized))\n",
    "\n",
    "# نمایش تصویر\n",
    "cv2.imshow(\"Original vs Blurred\", combined)\n",
    "cv2.waitKey(0)\n",
    "cv2.destroyAllWindows()"
   ]
  },
  {
   "cell_type": "code",
   "execution_count": 79,
   "id": "027cb483-f343-4c3d-9bfb-25756fdc87c4",
   "metadata": {},
   "outputs": [
    {
     "data": {
      "text/plain": [
       "True"
      ]
     },
     "execution_count": 79,
     "metadata": {},
     "output_type": "execute_result"
    }
   ],
   "source": [
    "# save\n",
    "cv2.imwrite(r'D:\\A_Senior - Data Science\\2_semester\\image processing\\Codes\\Noise Removal\\out put\\filter_salt and pepper noise_p_3.jpg', combined)"
   ]
  },
  {
   "cell_type": "code",
   "execution_count": 80,
   "id": "f32491f4-ab6e-438f-8751-96709eb976ec",
   "metadata": {},
   "outputs": [],
   "source": [
    "##########################\n",
    "##########################\n",
    "##########################\n",
    "##########################"
   ]
  },
  {
   "cell_type": "code",
   "execution_count": 81,
   "id": "fb8f8303-87a7-45ac-87b2-8438dfcf3f55",
   "metadata": {},
   "outputs": [],
   "source": [
    "# خواندن تصویر\n",
    "noisy_image = cv2.imread(r\"data\\Gaussian_Noise_p_3.jpg\")"
   ]
  },
  {
   "cell_type": "code",
   "execution_count": 82,
   "id": "a8b10b3a-efb9-4b19-85ad-679f166b59a6",
   "metadata": {},
   "outputs": [],
   "source": [
    "# اعمال فیلتر میانگین\n",
    "blurred_mean = remove_noise(noisy_image, method='bilateral')\n",
    "\n",
    "# تنظیم ابعاد دلخواه\n",
    "width, height = 500,683   # مقدار دلخواه\n",
    "image_resized = resize_image(noisy_image, width, height)\n",
    "blurred_mean_resized = resize_image(blurred_mean, width, height)\n",
    "\n",
    "# اضافه کردن لیبل به تصاویر\n",
    "image_resized = add_label(image_resized, \"Gaussian Noise Image\", (10, 30))\n",
    "blurred_mean_resized = add_label(blurred_mean_resized, \"bilateral Filter\", (10, 30))\n",
    "\n",
    "# ترکیب دو تصویر در کنار هم\n",
    "combined = np.hstack((image_resized, blurred_mean_resized))\n",
    "\n",
    "# نمایش تصویر\n",
    "cv2.imshow(\"Original vs Blurred\", combined)\n",
    "cv2.waitKey(0)\n",
    "cv2.destroyAllWindows()"
   ]
  },
  {
   "cell_type": "code",
   "execution_count": 76,
   "id": "57e73f2f-efda-4b4c-b02b-d487ce9c0cc7",
   "metadata": {},
   "outputs": [
    {
     "data": {
      "text/plain": [
       "True"
      ]
     },
     "execution_count": 76,
     "metadata": {},
     "output_type": "execute_result"
    }
   ],
   "source": [
    "# save\n",
    "cv2.imwrite(r'D:\\A_Senior - Data Science\\2_semester\\image processing\\Codes\\Noise Removal\\out put\\filter_Gaussian noise_p_3.jpg', combined)"
   ]
  },
  {
   "cell_type": "code",
   "execution_count": 83,
   "id": "337cfd6c-b933-4d56-be2f-faadd4071b02",
   "metadata": {},
   "outputs": [],
   "source": [
    "##########################\n",
    "##########################\n",
    "##########################\n",
    "##########################"
   ]
  },
  {
   "cell_type": "code",
   "execution_count": 84,
   "id": "d6a06b0b-48db-4938-9451-a6686efb5fb3",
   "metadata": {},
   "outputs": [],
   "source": [
    "# خواندن تصویر\n",
    "noisy_image = cv2.imread(r\"data\\poisson_noise_p_3.jpg\")"
   ]
  },
  {
   "cell_type": "code",
   "execution_count": 90,
   "id": "aa4e1822-0a5c-4997-90a2-3e7ff1b6764d",
   "metadata": {},
   "outputs": [],
   "source": [
    "# اعمال فیلتر میانگین\n",
    "blurred_mean = remove_noise(noisy_image, method='gaussian')\n",
    "\n",
    "# تنظیم ابعاد دلخواه\n",
    "width, height = 500,683   # مقدار دلخواه\n",
    "image_resized = resize_image(noisy_image, width, height)\n",
    "blurred_mean_resized = resize_image(blurred_mean, width, height)\n",
    "\n",
    "# اضافه کردن لیبل به تصاویر\n",
    "image_resized = add_label(image_resized, \"poisson noise Image\", (10, 30))\n",
    "blurred_mean_resized = add_label(blurred_mean_resized, \"gaussian Filter\", (10, 30))\n",
    "\n",
    "# ترکیب دو تصویر در کنار هم\n",
    "combined = np.hstack((image_resized, blurred_mean_resized))\n",
    "\n",
    "# نمایش تصویر\n",
    "cv2.imshow(\"Original vs Blurred\", combined)\n",
    "cv2.waitKey(0)\n",
    "cv2.destroyAllWindows()"
   ]
  },
  {
   "cell_type": "code",
   "execution_count": 91,
   "id": "4d80f162-9a78-4191-98aa-f52fbe7f97ae",
   "metadata": {},
   "outputs": [
    {
     "data": {
      "text/plain": [
       "True"
      ]
     },
     "execution_count": 91,
     "metadata": {},
     "output_type": "execute_result"
    }
   ],
   "source": [
    "# save\n",
    "cv2.imwrite(r'D:\\A_Senior - Data Science\\2_semester\\image processing\\Codes\\Noise Removal\\out put\\filter_poisson noise_p_3.jpg', combined)"
   ]
  },
  {
   "cell_type": "code",
   "execution_count": 92,
   "id": "fedecc44-2bd8-4f0c-b86d-8101c707e2df",
   "metadata": {},
   "outputs": [],
   "source": [
    "##########################\n",
    "##########################\n",
    "##########################\n",
    "##########################"
   ]
  },
  {
   "cell_type": "code",
   "execution_count": 93,
   "id": "a64e5bfd-2144-4657-a30c-f1df66dafbf2",
   "metadata": {},
   "outputs": [],
   "source": [
    "# خواندن تصویر\n",
    "noisy_image = cv2.imread(r\"data\\speckle_noise_p_3.jpg\")"
   ]
  },
  {
   "cell_type": "code",
   "execution_count": 101,
   "id": "bae69f2b-9941-48f2-835b-befd941a70c0",
   "metadata": {},
   "outputs": [],
   "source": [
    "# اعمال فیلتر میانگین\n",
    "blurred_mean = remove_noise(noisy_image, method='bilateral')\n",
    "\n",
    "# تنظیم ابعاد دلخواه\n",
    "width, height = 500,683   # مقدار دلخواه\n",
    "image_resized = resize_image(noisy_image, width, height)\n",
    "blurred_mean_resized = resize_image(blurred_mean, width, height)\n",
    "\n",
    "# اضافه کردن لیبل به تصاویر\n",
    "image_resized = add_label(image_resized, \"speckle noise Image\", (10, 30))\n",
    "blurred_mean_resized = add_label(blurred_mean_resized, \"bilateral Filter\", (10, 30))\n",
    "\n",
    "# ترکیب دو تصویر در کنار هم\n",
    "combined = np.hstack((image_resized, blurred_mean_resized))\n",
    "\n",
    "# نمایش تصویر\n",
    "cv2.imshow(\"Original vs Blurred\", combined)\n",
    "cv2.waitKey(0)\n",
    "cv2.destroyAllWindows()"
   ]
  },
  {
   "cell_type": "code",
   "execution_count": 102,
   "id": "03517152-d569-4d3b-844d-a9bd0890486b",
   "metadata": {},
   "outputs": [
    {
     "data": {
      "text/plain": [
       "True"
      ]
     },
     "execution_count": 102,
     "metadata": {},
     "output_type": "execute_result"
    }
   ],
   "source": [
    "# save\n",
    "cv2.imwrite(r'D:\\A_Senior - Data Science\\2_semester\\image processing\\Codes\\Noise Removal\\out put\\filter_speckle noise_p_3.jpg', combined)"
   ]
  },
  {
   "cell_type": "code",
   "execution_count": 103,
   "id": "da9fedc1-871d-44a2-b22c-189afbd02a06",
   "metadata": {},
   "outputs": [],
   "source": [
    "# finish"
   ]
  }
 ],
 "metadata": {
  "kernelspec": {
   "display_name": "Python 3 (ipykernel)",
   "language": "python",
   "name": "python3"
  },
  "language_info": {
   "codemirror_mode": {
    "name": "ipython",
    "version": 3
   },
   "file_extension": ".py",
   "mimetype": "text/x-python",
   "name": "python",
   "nbconvert_exporter": "python",
   "pygments_lexer": "ipython3",
   "version": "3.12.7"
  }
 },
 "nbformat": 4,
 "nbformat_minor": 5
}
